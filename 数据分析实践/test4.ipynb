{
 "cells": [
  {
   "cell_type": "markdown",
   "metadata": {},
   "source": [
    "### 任务4：  \n",
    "记录5个模型  \n",
    "（逻辑回归、SVM、决策树、随机森林、XGBoost）关于accuracy、precision，recall和F1-score、auc值的评分表格，并画出ROC曲线。"
   ]
  },
  {
   "cell_type": "code",
   "execution_count": 22,
   "metadata": {
    "collapsed": false
   },
   "outputs": [
    {
     "name": "stdout",
     "output_type": "stream",
     "text": [
      "(3327, 81) (1427, 81) (3327,) (1427,)\n",
      "0    1068\n",
      "1     359\n",
      "Name: status, dtype: int64\n"
     ]
    },
    {
     "data": {
      "text/plain": [
       "'\\n模型评估\\n'"
      ]
     },
     "execution_count": 22,
     "metadata": {},
     "output_type": "execute_result"
    }
   ],
   "source": [
    "import pandas as pd \n",
    "from sklearn.model_selection import train_test_split\n",
    "\n",
    "df = pd.read_csv('data.csv',encoding = 'gbk')\n",
    "\n",
    "\"\"\"\n",
    "数据处理\n",
    "\"\"\"\n",
    "\n",
    "###删除无关特征###\n",
    "df.drop(['Unnamed: 0','custid','trade_no','bank_card_no' ,'source','id_name'],inplace =True,axis = 1)\n",
    "\n",
    "###数据类型转换###（主要针对 obeject（文字类） \n",
    "df['reg_preference_for_trad'].fillna('其他城市',inplace = True)\n",
    "df['reg_preference_for_trad'].replace({'一线城市':1,'二线城市':2,'三线城市':3,'境外':4,'其他城市':5},inplace = True)\n",
    "\n",
    "# 处理日期格式 'latest_query_time', 'loans_latest_time'(暂时去掉？？？)\n",
    "\n",
    "df.drop(['latest_query_time', 'loans_latest_time'],inplace =True,axis = 1)\n",
    "\n",
    "\n",
    "###缺失值处理###\n",
    "df['student_feature'].fillna(0,inplace=True) \n",
    "for i in df.columns:\n",
    "    df[i].fillna(df[i].mode()[0],inplace = True)  #加[0]是因为众数可能有多个，返回不是一个数字\n",
    "    \n",
    "###切分数据集###\n",
    "\n",
    "y=df['status']\n",
    "x=df.drop('status',axis=1)\n",
    "x_train,x_test,y_train,y_test =train_test_split(x,y,test_size=0.3,random_state = 2018)   \n",
    "print(x_train.shape, x_test.shape, y_train.shape, y_test.shape)\n",
    "print(y_test.value_counts())\n",
    "\n",
    "\n",
    "\n",
    "\"\"\"\n",
    "建模\n",
    "\"\"\"\n",
    "\n",
    "\n",
    "\n",
    "\"\"\"\n",
    "模型评估\n",
    "\"\"\""
   ]
  },
  {
   "cell_type": "markdown",
   "metadata": {},
   "source": [
    "\n",
    "### 特征挑选和衍生\n"
   ]
  },
  {
   "cell_type": "markdown",
   "metadata": {},
   "source": [
    "### 建模"
   ]
  },
  {
   "cell_type": "code",
   "execution_count": 4,
   "metadata": {
    "collapsed": false
   },
   "outputs": [],
   "source": [
    "### 标准化处理 ###\n",
    "from sklearn.preprocessing import StandardScaler\n",
    "features = x_train.columns #目前是83个特征\n",
    "scaler = StandardScaler()\n",
    "x_train_scale = scaler.fit_transform(x_train)\n",
    "x_test_scale = scaler.fit_transform(x_test)\n"
   ]
  },
  {
   "cell_type": "code",
   "execution_count": 5,
   "metadata": {
    "collapsed": false
   },
   "outputs": [
    {
     "data": {
      "text/plain": [
       "array([[-0.29101688,  0.61031397,  0.49918707, ...,  0.13055688,\n",
       "        -0.66451309, -0.80800743],\n",
       "       [ 0.19176206,  0.4708364 , -0.35172863, ..., -0.05507476,\n",
       "         0.16776473, -0.47164799],\n",
       "       [-0.04962741, -0.29629029, -0.47328801, ...,  0.49417242,\n",
       "        -0.58128531,  1.58388194],\n",
       "       ..., \n",
       "       [-0.53240636, -3.57401339,  5.11844371, ..., -0.27407838,\n",
       "        -0.49805753, -0.88275397],\n",
       "       [-0.53240636, -0.15681271, -0.44897614, ..., -1.29957155,\n",
       "        -0.02643343, -0.90144061],\n",
       "       [-0.29101688, -0.01733513,  0.01294953, ...,  0.8904647 ,\n",
       "        -0.27611678, -0.41558808]])"
      ]
     },
     "execution_count": 5,
     "metadata": {},
     "output_type": "execute_result"
    }
   ],
   "source": [
    "x_train_scale"
   ]
  },
  {
   "cell_type": "code",
   "execution_count": 6,
   "metadata": {
    "collapsed": false
   },
   "outputs": [
    {
     "data": {
      "text/plain": [
       "array([[-0.50836422,  0.68455541, -0.5594217 , ..., -0.04641202,\n",
       "        -0.0066294 , -0.86283045],\n",
       "       [-0.26863   ,  0.27933117, -0.12349837, ..., -0.1563287 ,\n",
       "        -0.03327774, -0.17845968],\n",
       "       [-0.50836422, -0.66619206,  0.31242496, ..., -0.01643475,\n",
       "        -0.37970608, -0.61569656],\n",
       "       ..., \n",
       "       [-0.02889579,  0.54948066, -0.2978677 , ...,  1.91876488,\n",
       "        -0.45965109,  0.86710676],\n",
       "       [-0.50836422,  0.68455541, -0.5594217 , ...,  1.93541892,\n",
       "        -0.21981608,  1.76059082],\n",
       "       [-0.26863   , -0.80126681, -0.26880615, ...,  0.32996932,\n",
       "        -0.35305775, -0.74876865]])"
      ]
     },
     "execution_count": 6,
     "metadata": {},
     "output_type": "execute_result"
    }
   ],
   "source": [
    "x_test_scale"
   ]
  },
  {
   "cell_type": "markdown",
   "metadata": {},
   "source": [
    "# 模型评估"
   ]
  },
  {
   "cell_type": "code",
   "execution_count": 30,
   "metadata": {
    "collapsed": true
   },
   "outputs": [],
   "source": [
    "from sklearn.linear_model import LogisticRegression\n",
    "from sklearn.svm import LinearSVC\n",
    "from sklearn.tree import DecisionTreeClassifier\n",
    "from sklearn.ensemble import RandomForestClassifier\n",
    "from sklearn.metrics import classification_report\n",
    "from pandas import DataFrame,Series\n"
   ]
  },
  {
   "cell_type": "markdown",
   "metadata": {},
   "source": [
    "### 逻辑回归"
   ]
  },
  {
   "cell_type": "code",
   "execution_count": 31,
   "metadata": {
    "collapsed": false
   },
   "outputs": [
    {
     "data": {
      "text/plain": [
       "LogisticRegression(C=1.0, class_weight=None, dual=False, fit_intercept=True,\n",
       "          intercept_scaling=1, max_iter=100, multi_class='ovr', n_jobs=1,\n",
       "          penalty='l2', random_state=None, solver='liblinear', tol=0.0001,\n",
       "          verbose=0, warm_start=False)"
      ]
     },
     "execution_count": 31,
     "metadata": {},
     "output_type": "execute_result"
    }
   ],
   "source": [
    "clf_lr = LogisticRegression()\n",
    "clf_lr.fit(x_train, y_train)"
   ]
  },
  {
   "cell_type": "code",
   "execution_count": 40,
   "metadata": {
    "collapsed": false
   },
   "outputs": [
    {
     "name": "stdout",
     "output_type": "stream",
     "text": [
      "             precision    recall  f1-score   support\n",
      "\n",
      "          0    0.74842   1.00000   0.85611      1068\n",
      "          1    0.00000   0.00000   0.00000       359\n",
      "\n",
      "avg / total    0.56014   0.74842   0.64073      1427\n",
      "\n",
      "{0}\n",
      "0    1427\n",
      "Name: status, dtype: int64\n"
     ]
    },
    {
     "name": "stderr",
     "output_type": "stream",
     "text": [
      "D:\\MyCodeEnvironment\\Anaconda3\\lib\\site-packages\\sklearn\\metrics\\classification.py:1135: UndefinedMetricWarning: Precision and F-score are ill-defined and being set to 0.0 in labels with no predicted samples.\n",
      "  'precision', 'predicted', average, warn_for)\n"
     ]
    }
   ],
   "source": [
    "y_pre = clf_lr.predict(x_test)\n",
    "ans = classification_report(y_test,y_pre,digits=5)\n",
    "print(ans)\n",
    "df_lr = DataFrame(y_pre,columns = ['status'])\n",
    "print(set(y_pre))\n",
    "print(df_lr['status'].value_counts())"
   ]
  },
  {
   "cell_type": "markdown",
   "metadata": {},
   "source": [
    "### svm"
   ]
  },
  {
   "cell_type": "code",
   "execution_count": 10,
   "metadata": {
    "collapsed": false
   },
   "outputs": [
    {
     "data": {
      "text/plain": [
       "LinearSVC(C=1, class_weight=None, dual=True, fit_intercept=True,\n",
       "     intercept_scaling=1, loss='hinge', max_iter=1000, multi_class='ovr',\n",
       "     penalty='l2', random_state=None, tol=0.0001, verbose=0)"
      ]
     },
     "execution_count": 10,
     "metadata": {},
     "output_type": "execute_result"
    }
   ],
   "source": [
    "clf_svm = LinearSVC(C=1, loss=\"hinge\")\n",
    "clf_svm.fit(x_train, y_train)"
   ]
  },
  {
   "cell_type": "code",
   "execution_count": 26,
   "metadata": {
    "collapsed": false
   },
   "outputs": [
    {
     "name": "stdout",
     "output_type": "stream",
     "text": [
      "             precision    recall  f1-score   support\n",
      "\n",
      "          0       0.75      1.00      0.86      1068\n",
      "          1       0.00      0.00      0.00       359\n",
      "\n",
      "avg / total       0.56      0.75      0.64      1427\n",
      "\n",
      "{0}\n"
     ]
    },
    {
     "name": "stderr",
     "output_type": "stream",
     "text": [
      "D:\\MyCodeEnvironment\\Anaconda3\\lib\\site-packages\\sklearn\\metrics\\classification.py:1135: UndefinedMetricWarning: Precision and F-score are ill-defined and being set to 0.0 in labels with no predicted samples.\n",
      "  'precision', 'predicted', average, warn_for)\n"
     ]
    }
   ],
   "source": [
    "y_pre = clf_svm.predict(x_test)\n",
    "ans = classification_report(y_test,y_pre)\n",
    "print(ans)\n",
    "print(set(y_pre))#全预测为0"
   ]
  },
  {
   "cell_type": "markdown",
   "metadata": {},
   "source": [
    "### 决策树"
   ]
  },
  {
   "cell_type": "code",
   "execution_count": 16,
   "metadata": {
    "collapsed": false
   },
   "outputs": [
    {
     "data": {
      "text/plain": [
       "DecisionTreeClassifier(class_weight=None, criterion='gini', max_depth=None,\n",
       "            max_features=None, max_leaf_nodes=None,\n",
       "            min_impurity_decrease=0.0, min_impurity_split=None,\n",
       "            min_samples_leaf=1, min_samples_split=2,\n",
       "            min_weight_fraction_leaf=0.0, presort=False, random_state=None,\n",
       "            splitter='best')"
      ]
     },
     "execution_count": 16,
     "metadata": {},
     "output_type": "execute_result"
    }
   ],
   "source": [
    "clf_dt = DecisionTreeClassifier()\n",
    "clf_dt.fit(x_train, y_train)"
   ]
  },
  {
   "cell_type": "code",
   "execution_count": 42,
   "metadata": {
    "collapsed": false
   },
   "outputs": [
    {
     "name": "stdout",
     "output_type": "stream",
     "text": [
      "             precision    recall  f1-score   support\n",
      "\n",
      "          0    0.78713   0.77903   0.78306      1068\n",
      "          1    0.36216   0.37326   0.36763       359\n",
      "\n",
      "avg / total    0.68022   0.67694   0.67855      1427\n",
      "\n",
      "{0, 1}\n",
      "0    1057\n",
      "1     370\n",
      "Name: status, dtype: int64\n"
     ]
    }
   ],
   "source": [
    "y_pre = clf_dt.predict(x_test)\n",
    "ans = classification_report(y_test,y_pre,digits=5)\n",
    "print(ans)\n",
    "df_dt = DataFrame(y_pre,columns = ['status'])\n",
    "print(set(y_pre))\n",
    "print(df_dt['status'].value_counts())"
   ]
  },
  {
   "cell_type": "markdown",
   "metadata": {},
   "source": [
    "### 随机森林"
   ]
  },
  {
   "cell_type": "code",
   "execution_count": 18,
   "metadata": {
    "collapsed": false
   },
   "outputs": [
    {
     "data": {
      "text/plain": [
       "RandomForestClassifier(bootstrap=True, class_weight=None, criterion='gini',\n",
       "            max_depth=None, max_features='auto', max_leaf_nodes=None,\n",
       "            min_impurity_decrease=0.0, min_impurity_split=None,\n",
       "            min_samples_leaf=1, min_samples_split=2,\n",
       "            min_weight_fraction_leaf=0.0, n_estimators=10, n_jobs=-1,\n",
       "            oob_score=False, random_state=2018, verbose=0,\n",
       "            warm_start=False)"
      ]
     },
     "execution_count": 18,
     "metadata": {},
     "output_type": "execute_result"
    }
   ],
   "source": [
    "clf_rf = RandomForestClassifier(random_state=2018, n_jobs=-1)\n",
    "clf_rf.fit(x_train, y_train)"
   ]
  },
  {
   "cell_type": "code",
   "execution_count": 44,
   "metadata": {
    "collapsed": false
   },
   "outputs": [
    {
     "name": "stdout",
     "output_type": "stream",
     "text": [
      "             precision    recall  f1-score   support\n",
      "\n",
      "          0    0.78802   0.93633   0.85580      1068\n",
      "          1    0.56962   0.25070   0.34816       359\n",
      "\n",
      "avg / total    0.73308   0.76384   0.72809      1427\n",
      "\n",
      "{0, 1}\n",
      "0    1269\n",
      "1     158\n",
      "Name: status, dtype: int64\n"
     ]
    }
   ],
   "source": [
    "y_pre = clf_rf.predict(x_test)\n",
    "ans = classification_report(y_test,y_pre,digits=5)\n",
    "print(ans)\n",
    "df_rf = DataFrame(y_pre,columns = ['status'])\n",
    "print(set(y_pre))\n",
    "print(df_rf['status'].value_counts())"
   ]
  },
  {
   "cell_type": "markdown",
   "metadata": {},
   "source": [
    "### xgboost"
   ]
  },
  {
   "cell_type": "code",
   "execution_count": 46,
   "metadata": {
    "collapsed": false
   },
   "outputs": [],
   "source": [
    "import xgboost as xgb\n",
    "params = {\n",
    "    'booster': 'gbtree',\n",
    "    'objective': 'multi:softmax',\n",
    "    'num_class': 2,\n",
    "    'gamma': 0.1,\n",
    "    'max_depth': 6,\n",
    "    'lambda': 2,\n",
    "    'subsample': 0.7,\n",
    "    'colsample_bytree': 0.7,\n",
    "    'min_child_weight': 3,\n",
    "    'silent': 1,\n",
    "    'eta': 0.1,\n",
    "    'seed': 1000,\n",
    "    'nthread': 32,\n",
    "}\n",
    "\n",
    "plst = params.items()"
   ]
  },
  {
   "cell_type": "code",
   "execution_count": 47,
   "metadata": {
    "collapsed": false
   },
   "outputs": [],
   "source": [
    "dtrain = xgb.DMatrix(x_train, y_train)\n",
    "num_rounds = 500\n",
    "model = xgb.train(plst, dtrain, num_rounds)"
   ]
  },
  {
   "cell_type": "code",
   "execution_count": 49,
   "metadata": {
    "collapsed": false
   },
   "outputs": [
    {
     "name": "stdout",
     "output_type": "stream",
     "text": [
      "             precision    recall  f1-score   support\n",
      "\n",
      "          0    0.80817   0.90730   0.85487      1068\n",
      "          1    0.56579   0.35933   0.43952       359\n",
      "\n",
      "avg / total    0.74720   0.76945   0.75038      1427\n",
      "\n",
      "{0, 1}\n",
      "0    1269\n",
      "1     158\n",
      "Name: status, dtype: int64\n"
     ]
    }
   ],
   "source": [
    "# 对测试集进行预测\n",
    "from sklearn.metrics import classification_report\n",
    "dtest = xgb.DMatrix(x_test)\n",
    "y_pre = model.predict(dtest)\n",
    "ans = classification_report(y_test, y_predict,digits=5)\n",
    "print(ans)\n",
    "df_xgb = DataFrame(y_pre,columns = ['status'])\n",
    "print(set(y_pre))\n",
    "print(df_xgb['status'].value_counts())"
   ]
  },
  {
   "cell_type": "markdown",
   "metadata": {},
   "source": [
    "# 模型评估"
   ]
  },
  {
   "cell_type": "code",
   "execution_count": 52,
   "metadata": {
    "collapsed": false
   },
   "outputs": [],
   "source": [
    "# 混淆矩阵\n",
    "from sklearn.model_selection import cross_val_predict\n",
    "from sklearn.metrics import confusion_matrix, precision_score, recall_score, f1_score\n",
    "\n",
    "#使用交叉验证\n",
    "\n",
    "def get_P_R_value(y_test, y_test_pred_sgd):\n",
    "    obj = confusion_matrix(y_test, y_test_pred_sgd)\n",
    "    print('confusion_matrix\\n', obj)\n",
    "#     score = (obj[0,0] + obj[1,1])/obj.sum()\n",
    "#     print('score,{:0.4f}'.format(score))\n",
    "    P = precision_score(y_test, y_test_pred_sgd)\n",
    "    R = recall_score(y_test, y_test_pred_sgd)\n",
    "    F1 = f1_score(y_test, y_test_pred_sgd)\n",
    "    print('precision {:0.4f}, recall {:0.4f}, f1_score {:0.4f}'.format(P,R,F1))"
   ]
  },
  {
   "cell_type": "code",
   "execution_count": 53,
   "metadata": {
    "collapsed": false
   },
   "outputs": [
    {
     "name": "stdout",
     "output_type": "stream",
     "text": [
      "confusion_matrix\n",
      " [[969  99]\n",
      " [230 129]]\n",
      "precision 0.5658, recall 0.3593, f1_score 0.4395\n"
     ]
    }
   ],
   "source": [
    "# xgboost\n",
    "get_P_R_value(y_test, y_predict)"
   ]
  },
  {
   "cell_type": "code",
   "execution_count": null,
   "metadata": {
    "collapsed": true
   },
   "outputs": [],
   "source": []
  }
 ],
 "metadata": {
  "anaconda-cloud": {},
  "kernelspec": {
   "display_name": "Python [default]",
   "language": "python",
   "name": "python3"
  },
  "language_info": {
   "codemirror_mode": {
    "name": "ipython",
    "version": 3
   },
   "file_extension": ".py",
   "mimetype": "text/x-python",
   "name": "python",
   "nbconvert_exporter": "python",
   "pygments_lexer": "ipython3",
   "version": "3.5.2"
  }
 },
 "nbformat": 4,
 "nbformat_minor": 1
}
