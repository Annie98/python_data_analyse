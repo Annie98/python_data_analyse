{
 "cells": [
  {
   "cell_type": "markdown",
   "metadata": {},
   "source": [
    "## file"
   ]
  },
  {
   "cell_type": "code",
   "execution_count": 41,
   "metadata": {
    "collapsed": true
   },
   "outputs": [
    {
     "name": "stdout",
     "output_type": "stream",
     "text": [
      "['如果无情的风摘走了那片树叶', '如同摘走了我的心', '在每一个想你的夜晚', '请允许我将你抱紧', '我不像一只大雁可以秋去春来', '衔回丢失的缘分', '所以从来不敢回忆离别', '越是清晰 越是伤心', '你说所有的城市没有不同', '我宁愿相信你心中有片草原']\n"
     ]
    }
   ],
   "source": [
    "\"\"\"写文件\"\"\"\n",
    "\"\"\"基于字符.read()\"\"\"\n",
    "\"\"\"1\"\"\"\n",
    "file =open('./data/test','r',encoding='utf-8')\n",
    "for line in file:\n",
    "    print(line)\n",
    "file.close()#关闭\n",
    "\"\"\"2\"\"\"\n",
    "# 用with的方式打开文件，不用担心使用完文件后忘记关闭，它会自动将文件关闭\n",
    "with open(\"./data/test\",'r',encoding='utf-8') as f:\n",
    "        for line in f:\n",
    "            line = line.replace('\\n','')# 把末尾的'\\n'删掉\n",
    "            print(line)\n",
    "\"\"\"3\"\"\"\n",
    "file2 = open ( 'data/test',encoding='utf-8' ) \n",
    "print(file2.read())\n",
    "print(type(file2.read()))#<class 'str'>，包括换行符\n",
    "file2.close()\n",
    "\"\"\"4\"\"\"\n",
    "lines = [line.strip() for line in open('data/test',encoding='utf-8')]\n",
    "print(lines)\n",
    "\n",
    "\"\"\"基于行的.readline\"\"\"\n",
    "with open('data/test',encoding='utf-8') as f:\n",
    "    for line in f.readlines():#使用readlines方法一次性读取完所有数据，包括换行符，并以列表的形式返回，列表中的每个元素就是原文件的一行\n",
    "        print(line.strip())# 把末尾的'\\n'删掉"
   ]
  },
  {
   "cell_type": "code",
   "execution_count": 43,
   "metadata": {
    "collapsed": false
   },
   "outputs": [],
   "source": [
    "\"\"\"写文件\"\"\"\n",
    "\"\"\"1\"\"\"\n",
    "f = open('data/test_xkj','w',encoding='utf-8')\n",
    "f.write('hello,xkj')\n",
    "f.close()\n",
    "\"\"\"2\"\"\"\n",
    "with open('data/test_xkj', 'w',encoding='utf-8') as f:\n",
    "    f.write('Hello, world!')\n",
    "\"\"\"基于行\"\"\"\n",
    "li = ['1\\n','2\\n','3\\n']\n",
    "with open('data/test_xkj','a',encoding='utf-8') as f:\n",
    "    f.writelines(e for e in li)"
   ]
  },
  {
   "cell_type": "code",
   "execution_count": 47,
   "metadata": {
    "collapsed": false
   },
   "outputs": [],
   "source": [
    "\"\"\"读+写\"\"\"\n",
    "#读文件，做处理，再写入文件\n",
    "li = []\n",
    "with open(\"./data/test\",encoding='utf-8') as fr:\n",
    "    for line in fr:\n",
    "        #当rm为空时，默认删除开头和结尾的空白符（包括'\\n', '\\r',  '\\t',  ' ')\n",
    "        line =line.strip()\n",
    "        li.append('1'+'\\t'+ line)#做处理 ，放到列表中\n",
    "with open('data/test_xkj1','a',encoding='utf-8') as fw:\n",
    "    fw.writelines(e + '\\n' for e in li)\n"
   ]
  },
  {
   "cell_type": "markdown",
   "metadata": {},
   "source": [
    "## json pickle"
   ]
  },
  {
   "cell_type": "code",
   "execution_count": 6,
   "metadata": {
    "collapsed": false
   },
   "outputs": [
    {
     "name": "stdout",
     "output_type": "stream",
     "text": [
      "[{\"a\": 1, \"b\": 2, \"d\": 4, \"c\": 3, \"e\": 5}]\n",
      "<class 'list'>\n"
     ]
    }
   ],
   "source": [
    "#json格式其实就是dict格式\n",
    "\"\"\"json.dumps\t将 Python 对象编码成 JSON 字符串\"\"\"\n",
    "\"\"\"json.dumps(obj, skipkeys=False, ensure_ascii=True, check_circular=True, allow_nan=True, cls=None, indent=None, \n",
    "separators=None, encoding=\"utf-8\", default=None, sort_keys=False, **kw)\"\"\"\n",
    "#常用参数：ensure_ascii=False（让编码正常，不是Unicode），\n",
    "import json\n",
    "data = [ { 'a' : 1, 'b' : 2, 'c' : 3, 'd' : 4, 'e' : 5 } ]\n",
    "json1 = json.dumps(data)\n",
    "print(json1)\n",
    "\"\"\"json.loads\t将已编码的 JSON 字符串解码为 Python 对象,看存的时候是list还是dict这些\"\"\"\n",
    "domain = json.load(open('data/part21.json','r'))\n",
    "print(type(domain))#<class 'list'>\n",
    "\n",
    "\"\"\"写入文件\"\"\"\n",
    "\n",
    "with open('test3','a',encoding='utf-8') as f1:\n",
    "    f1.write(json.dumps('发',ensure_ascii=False)+'\\n')\n",
    "    \n",
    "    \n",
    "\n"
   ]
  },
  {
   "cell_type": "code",
   "execution_count": null,
   "metadata": {
    "collapsed": true
   },
   "outputs": [],
   "source": []
  }
 ],
 "metadata": {
  "anaconda-cloud": {},
  "kernelspec": {
   "display_name": "Python [conda env:tensorflow-gpu]",
   "language": "python",
   "name": "conda-env-tensorflow-gpu-py"
  },
  "language_info": {
   "codemirror_mode": {
    "name": "ipython",
    "version": 3
   },
   "file_extension": ".py",
   "mimetype": "text/x-python",
   "name": "python",
   "nbconvert_exporter": "python",
   "pygments_lexer": "ipython3",
   "version": "3.5.4"
  }
 },
 "nbformat": 4,
 "nbformat_minor": 1
}
